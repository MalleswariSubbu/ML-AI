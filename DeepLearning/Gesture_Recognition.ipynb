{
 "cells": [
  {
   "cell_type": "markdown",
   "metadata": {},
   "source": [
    "# Gesture Recognition\n",
    "In this group project, you are going to build a 3D Conv model that will be able to predict the 5 gestures correctly. Please import the following libraries to get started. Once you have completed the code you can download the notebook for making a submission."
   ]
  },
  {
   "cell_type": "code",
   "execution_count": 42,
   "metadata": {},
   "outputs": [
    {
     "name": "stdout",
     "output_type": "stream",
     "text": [
      "Requirement already satisfied: keras in /usr/local/lib/python3.6/dist-packages (2.4.3)\n",
      "Requirement already satisfied: scipy>=0.14 in /usr/local/lib/python3.6/dist-packages (from keras) (1.4.1)\n",
      "Requirement already satisfied: h5py in /usr/local/lib/python3.6/dist-packages (from keras) (2.10.0)\n",
      "Requirement already satisfied: pyyaml in /usr/local/lib/python3.6/dist-packages (from keras) (5.3.1)\n",
      "Requirement already satisfied: numpy>=1.9.1 in /usr/local/lib/python3.6/dist-packages (from keras) (1.17.3)\n",
      "Requirement already satisfied: six in /usr/local/lib/python3.6/dist-packages (from h5py->keras) (1.15.0)\n",
      "\u001b[33mWARNING: You are using pip version 20.2.4; however, version 21.2.1 is available.\n",
      "You should consider upgrading via the '/usr/bin/python -m pip install --upgrade pip' command.\u001b[0m\n"
     ]
    }
   ],
   "source": [
    "!pip install keras"
   ]
  },
  {
   "cell_type": "code",
   "execution_count": 43,
   "metadata": {},
   "outputs": [],
   "source": [
    "import numpy as np\n",
    "import os\n",
    "from imageio import imread\n",
    "from skimage.transform import resize\n",
    "import datetime\n",
    "import os\n",
    "import warnings\n",
    "warnings.filterwarnings(\"ignore\")"
   ]
  },
  {
   "cell_type": "markdown",
   "metadata": {},
   "source": [
    "We set the random seed so that the results don't vary drastically."
   ]
  },
  {
   "cell_type": "code",
   "execution_count": 44,
   "metadata": {},
   "outputs": [],
   "source": [
    "np.random.seed(30)\n",
    "import random as rn\n",
    "rn.seed(30)\n",
    "from tensorflow import keras\n",
    "import tensorflow as tf\n",
    "tf.random.set_seed(30)"
   ]
  },
  {
   "cell_type": "markdown",
   "metadata": {},
   "source": [
    "In this block, you read the folder names for training and validation. You also set the `batch_size` here. Note that you set the batch size in such a way that you are able to use the GPU in full capacity. You keep increasing the batch size until the machine throws an error."
   ]
  },
  {
   "cell_type": "markdown",
   "metadata": {},
   "source": [
    "**data path: /home/datasets/Project_data**"
   ]
  },
  {
   "cell_type": "code",
   "execution_count": 45,
   "metadata": {},
   "outputs": [],
   "source": [
    "train_doc = np.random.permutation(open('/home/datasets/Project_data/train.csv').readlines())\n",
    "val_doc = np.random.permutation(open('/home/datasets/Project_data/val.csv').readlines())\n",
    "batch_size = 50 #experiment with the batch size\n",
    "img_height = 100\n",
    "img_width = 100\n",
    "num_frames = 24"
   ]
  },
  {
   "cell_type": "markdown",
   "metadata": {},
   "source": [
    "## Generator\n",
    "This is one of the most important part of the code. The overall structure of the generator has been given. In the generator, you are going to preprocess the images as you have images of 2 different dimensions as well as create a batch of video frames. You have to experiment with `img_idx`, `y`,`z` and normalization such that you get high accuracy."
   ]
  },
  {
   "cell_type": "code",
   "execution_count": 46,
   "metadata": {},
   "outputs": [],
   "source": [
    "def generator(source_path, folder_list, batch_size):\n",
    "    print( 'Source path = ', source_path, '; batch size =', batch_size)\n",
    "    img_idx = [0,1,2,3,5,6,8,9,10,12,14,15,16,18,19,20,21,22,23,24,25,26,28,29]#create a list of image numbers you want to use for a particular video\n",
    "    x = len(img_idx)\n",
    "    while True:\n",
    "        t = np.random.permutation(folder_list)\n",
    "        num_batches = int(len(t)/batch_size)# calculate the number of batches\n",
    "        for batch in range(num_batches): # we iterate over the number of batches\n",
    "            batch_data = np.zeros((batch_size,x,img_height,img_width,3)) # x is the number of images you use for each video, (y,z) is the final size of the input images and 3 is the number of channels RGB\n",
    "            batch_labels = np.zeros((batch_size,5)) # batch_labels is the one hot representation of the output\n",
    "            for folder in range(batch_size): # iterate over the batch_size\n",
    "                imgs = os.listdir(source_path+'/'+ t[folder + (batch*batch_size)].split(';')[0]) # read all the images in the folder\n",
    "                for idx,item in enumerate(img_idx): #  Iterate iver the frames/images of a folder to read them in\n",
    "                    image = imread(source_path+'/'+ t[folder + (batch*batch_size)].strip().split(';')[0]+'/'+imgs[item]).astype(np.float32)\n",
    "                    \n",
    "                    #crop the images and resize them. Note that the images are of 2 different shape \n",
    "                    #and the conv3D will throw error if the inputs in a batch have different shapes\n",
    "                    image_r = resize(image, (img_height, img_width))\n",
    "                    batch_data[folder,idx,:,:,0] = (image_r[:,:,0])/255 #normalise and feed in the image\n",
    "                    batch_data[folder,idx,:,:,1] = (image_r[:,:,1])/255 #normalise and feed in the image\n",
    "                    batch_data[folder,idx,:,:,2] = (image_r[:,:,2])/255 #normalise and feed in the image\n",
    "                    \n",
    "                batch_labels[folder, int(t[folder + (batch*batch_size)].strip().split(';')[2])] = 1\n",
    "            yield batch_data, batch_labels #you yield the batch_data and the batch_labels, remember what does yield do\n",
    "\n",
    "        \n",
    "        # write the code for the remaining data points which are left after full batches\n",
    "        if (len(t)%batch_size) != 0:\n",
    "            batch_data = np.zeros((len(t)%batch_size,x,img_height,img_width,3))\n",
    "            batch_labels = np.zeros((len(t)%batch_size,5))\n",
    "            for folder in range(len(t)%batch_size):\n",
    "                imgs = os.listdir(source_path+'/'+ t[folder + (num_batches*batch_size)].split(';')[0])\n",
    "                for idx,item in enumerate(img_idx):\n",
    "                    image = imread(source_path+'/'+ t[folder + (num_batches*batch_size)].strip().split(';')[0]+'/'+imgs[item]).astype(np.float32)\n",
    "                    image_r = resize(image, (img_height, img_width))\n",
    "\n",
    "                    batch_data[folder,idx,:,:,0] = (image_r[:,:,0])/255 #normalise and feed in the image\n",
    "                    batch_data[folder,idx,:,:,1] = (image_r[:,:,1])/255 #normalise and feed in the image\n",
    "                    batch_data[folder,idx,:,:,2] = (image_r[:,:,2])/255 #normalise and feed in the image\n",
    "\n",
    "                batch_labels[folder, int(t[folder + (num_batches*batch_size)].strip().split(';')[2])] = 1\n",
    "\n",
    "            yield batch_data, batch_labels\n"
   ]
  },
  {
   "cell_type": "markdown",
   "metadata": {},
   "source": [
    "Note here that a video is represented above in the generator as (number of images, height, width, number of channels). Take this into consideration while creating the model architecture."
   ]
  },
  {
   "cell_type": "code",
   "execution_count": 47,
   "metadata": {},
   "outputs": [
    {
     "name": "stdout",
     "output_type": "stream",
     "text": [
      "# training sequences = 663\n",
      "# validation sequences = 100\n",
      "# epochs = 10\n"
     ]
    }
   ],
   "source": [
    "curr_dt_time = datetime.datetime.now()\n",
    "train_path = '/home/datasets/Project_data/train'\n",
    "val_path = '/home/datasets/Project_data/val'\n",
    "num_train_sequences = len(train_doc)\n",
    "print('# training sequences =', num_train_sequences)\n",
    "num_val_sequences = len(val_doc)\n",
    "print('# validation sequences =', num_val_sequences)\n",
    "num_epochs = 10 # choose the number of epochs\n",
    "print ('# epochs =', num_epochs)"
   ]
  },
  {
   "cell_type": "markdown",
   "metadata": {},
   "source": [
    "## Model\n",
    "Here you make the model using different functionalities that Keras provides. Remember to use `Conv3D` and `MaxPooling3D` and not `Conv2D` and `Maxpooling2D` for a 3D convolution model. You would want to use `TimeDistributed` while building a Conv2D + RNN model. Also remember that the last layer is the softmax. Design the network in such a way that the model is able to give good accuracy on the least number of parameters so that it can fit in the memory of the webcam."
   ]
  },
  {
   "cell_type": "code",
   "execution_count": 48,
   "metadata": {},
   "outputs": [],
   "source": [
    "from keras.models import Sequential, Model\n",
    "from keras.layers import Dropout\n",
    "from keras.layers import Dense, GRU, Flatten, TimeDistributed, Flatten, BatchNormalization, Activation\n",
    "from keras.layers.convolutional import Conv3D, MaxPooling3D, Conv2D, MaxPooling2D\n",
    "from keras.layers.recurrent import LSTM\n",
    "from keras.callbacks import ModelCheckpoint, ReduceLROnPlateau\n",
    "from keras import optimizers\n",
    "\n",
    "\n",
    "#write your model here\n",
    "model = Sequential()\n",
    "model.add(Conv3D(16, (3, 3, 3), padding='same', input_shape=(num_frames,img_height,img_width,3)))\n",
    "model.add(Activation('relu'))\n",
    "model.add(BatchNormalization())\n",
    "model.add(MaxPooling3D(pool_size=(2, 2, 2)))\n",
    "\n",
    "model.add(Conv3D(32, (2, 2, 2), padding='same'))\n",
    "model.add(Activation('relu'))\n",
    "model.add(BatchNormalization())\n",
    "model.add(MaxPooling3D(pool_size=(2, 2, 2)))\n",
    "\n",
    "model.add(Conv3D(64, (2, 2, 2), padding='same'))\n",
    "model.add(Activation('relu'))\n",
    "model.add(BatchNormalization())\n",
    "model.add(MaxPooling3D(pool_size=(2, 2, 2)))\n",
    "\n",
    "model.add(Conv3D(128, (2, 2, 2), padding='same'))\n",
    "model.add(Activation('relu'))\n",
    "model.add(BatchNormalization())\n",
    "model.add(MaxPooling3D(pool_size=(2, 2, 2)))\n",
    "\n",
    "model.add(Flatten())\n",
    "model.add(Dense(128,activation='relu'))\n",
    "model.add(BatchNormalization())\n",
    "model.add(Dropout(0.5))\n",
    "\n",
    "model.add(Dense(64,activation='relu'))\n",
    "model.add(BatchNormalization())\n",
    "model.add(Dropout(0.2))\n",
    "\n",
    "\n",
    "model.add(Dense(5,activation='softmax'))"
   ]
  },
  {
   "cell_type": "markdown",
   "metadata": {},
   "source": [
    "Now that you have written the model, the next step is to `compile` the model. When you print the `summary` of the model, you'll see the total number of parameters you have to train."
   ]
  },
  {
   "cell_type": "code",
   "execution_count": 49,
   "metadata": {
    "scrolled": true
   },
   "outputs": [
    {
     "name": "stdout",
     "output_type": "stream",
     "text": [
      "Model: \"sequential_5\"\n",
      "_________________________________________________________________\n",
      "Layer (type)                 Output Shape              Param #   \n",
      "=================================================================\n",
      "conv3d_12 (Conv3D)           (None, 24, 100, 100, 16)  1312      \n",
      "_________________________________________________________________\n",
      "activation_12 (Activation)   (None, 24, 100, 100, 16)  0         \n",
      "_________________________________________________________________\n",
      "batch_normalization_16 (Batc (None, 24, 100, 100, 16)  64        \n",
      "_________________________________________________________________\n",
      "max_pooling3d_12 (MaxPooling (None, 12, 50, 50, 16)    0         \n",
      "_________________________________________________________________\n",
      "conv3d_13 (Conv3D)           (None, 12, 50, 50, 32)    4128      \n",
      "_________________________________________________________________\n",
      "activation_13 (Activation)   (None, 12, 50, 50, 32)    0         \n",
      "_________________________________________________________________\n",
      "batch_normalization_17 (Batc (None, 12, 50, 50, 32)    128       \n",
      "_________________________________________________________________\n",
      "max_pooling3d_13 (MaxPooling (None, 6, 25, 25, 32)     0         \n",
      "_________________________________________________________________\n",
      "conv3d_14 (Conv3D)           (None, 6, 25, 25, 64)     16448     \n",
      "_________________________________________________________________\n",
      "activation_14 (Activation)   (None, 6, 25, 25, 64)     0         \n",
      "_________________________________________________________________\n",
      "batch_normalization_18 (Batc (None, 6, 25, 25, 64)     256       \n",
      "_________________________________________________________________\n",
      "max_pooling3d_14 (MaxPooling (None, 3, 12, 12, 64)     0         \n",
      "_________________________________________________________________\n",
      "conv3d_15 (Conv3D)           (None, 3, 12, 12, 128)    65664     \n",
      "_________________________________________________________________\n",
      "activation_15 (Activation)   (None, 3, 12, 12, 128)    0         \n",
      "_________________________________________________________________\n",
      "batch_normalization_19 (Batc (None, 3, 12, 12, 128)    512       \n",
      "_________________________________________________________________\n",
      "max_pooling3d_15 (MaxPooling (None, 1, 6, 6, 128)      0         \n",
      "_________________________________________________________________\n",
      "flatten_4 (Flatten)          (None, 4608)              0         \n",
      "_________________________________________________________________\n",
      "dense_12 (Dense)             (None, 128)               589952    \n",
      "_________________________________________________________________\n",
      "batch_normalization_20 (Batc (None, 128)               512       \n",
      "_________________________________________________________________\n",
      "dropout_6 (Dropout)          (None, 128)               0         \n",
      "_________________________________________________________________\n",
      "dense_13 (Dense)             (None, 64)                8256      \n",
      "_________________________________________________________________\n",
      "batch_normalization_21 (Batc (None, 64)                256       \n",
      "_________________________________________________________________\n",
      "dropout_7 (Dropout)          (None, 64)                0         \n",
      "_________________________________________________________________\n",
      "dense_14 (Dense)             (None, 5)                 325       \n",
      "=================================================================\n",
      "Total params: 687,813\n",
      "Trainable params: 686,949\n",
      "Non-trainable params: 864\n",
      "_________________________________________________________________\n",
      "None\n"
     ]
    }
   ],
   "source": [
    "optimiser = optimizers.Adam()#write your optimizer\n",
    "model.compile(optimizer=optimiser, loss='categorical_crossentropy', metrics=['categorical_accuracy'])\n",
    "print (model.summary())"
   ]
  },
  {
   "cell_type": "markdown",
   "metadata": {},
   "source": [
    "Let us create the `train_generator` and the `val_generator` which will be used in `.fit_generator`."
   ]
  },
  {
   "cell_type": "code",
   "execution_count": 50,
   "metadata": {},
   "outputs": [],
   "source": [
    "train_generator = generator(train_path, train_doc, batch_size)\n",
    "val_generator = generator(val_path, val_doc, batch_size)"
   ]
  },
  {
   "cell_type": "code",
   "execution_count": 51,
   "metadata": {},
   "outputs": [
    {
     "name": "stdout",
     "output_type": "stream",
     "text": [
      "WARNING:tensorflow:`period` argument is deprecated. Please use `save_freq` to specify the frequency in number of batches seen.\n"
     ]
    }
   ],
   "source": [
    "model_name = 'model_init' + '_' + str(curr_dt_time).replace(' ','').replace(':','_') + '/'\n",
    "    \n",
    "if not os.path.exists(model_name):\n",
    "    os.mkdir(model_name)\n",
    "        \n",
    "filepath = model_name + 'model-{epoch:05d}-{loss:.5f}-{categorical_accuracy:.5f}-{val_loss:.5f}-{val_categorical_accuracy:.5f}.h5'\n",
    "\n",
    "checkpoint = ModelCheckpoint(filepath, monitor='val_loss', verbose=1, save_best_only=False, save_weights_only=False, mode='auto', period=1)\n",
    "        \n",
    "LR = ReduceLROnPlateau(monitor='val_loss', factor=0.2, verbose=1, patience=4)# write the REducelronplateau code here\n",
    "callbacks_list = [checkpoint, LR]"
   ]
  },
  {
   "cell_type": "markdown",
   "metadata": {},
   "source": [
    "The `steps_per_epoch` and `validation_steps` are used by `fit` method to decide the number of next() calls it need to make."
   ]
  },
  {
   "cell_type": "code",
   "execution_count": 52,
   "metadata": {},
   "outputs": [],
   "source": [
    "if (num_train_sequences%batch_size) == 0:\n",
    "    steps_per_epoch = int(num_train_sequences/batch_size)\n",
    "else:\n",
    "    steps_per_epoch = (num_train_sequences//batch_size) + 1\n",
    "\n",
    "if (num_val_sequences%batch_size) == 0:\n",
    "    validation_steps = int(num_val_sequences/batch_size)\n",
    "else:\n",
    "    validation_steps = (num_val_sequences//batch_size) + 1"
   ]
  },
  {
   "cell_type": "markdown",
   "metadata": {},
   "source": [
    "Let us now fit the model. This will start training the model and with the help of the checkpoints, you'll be able to save the model at the end of each epoch."
   ]
  },
  {
   "cell_type": "code",
   "execution_count": 53,
   "metadata": {},
   "outputs": [
    {
     "name": "stdout",
     "output_type": "stream",
     "text": [
      "Source path =  /home/datasets/Project_data/train ; batch size = 50\n",
      "Epoch 1/10\n",
      "14/14 [==============================] - ETA: 0s - loss: 1.5292 - categorical_accuracy: 0.4359Source path =  /home/datasets/Project_data/val ; batch size = 50\n",
      "\n",
      "Epoch 00001: saving model to model_init_2021-07-3109_59_30.632350/model-00001-1.52923-0.43590-2.03821-0.16000.h5\n",
      "14/14 [==============================] - 117s 8s/step - loss: 1.5292 - categorical_accuracy: 0.4359 - val_loss: 2.0382 - val_categorical_accuracy: 0.1600\n",
      "Epoch 2/10\n",
      "14/14 [==============================] - ETA: 0s - loss: 0.8649 - categorical_accuracy: 0.6486\n",
      "Epoch 00002: saving model to model_init_2021-07-3109_59_30.632350/model-00002-0.86486-0.64857-3.82306-0.15000.h5\n",
      "14/14 [==============================] - 118s 8s/step - loss: 0.8649 - categorical_accuracy: 0.6486 - val_loss: 3.8231 - val_categorical_accuracy: 0.1500\n",
      "Epoch 3/10\n",
      "14/14 [==============================] - ETA: 0s - loss: 0.6858 - categorical_accuracy: 0.7210\n",
      "Epoch 00003: saving model to model_init_2021-07-3109_59_30.632350/model-00003-0.68581-0.72097-5.36178-0.16000.h5\n",
      "14/14 [==============================] - 118s 8s/step - loss: 0.6858 - categorical_accuracy: 0.7210 - val_loss: 5.3618 - val_categorical_accuracy: 0.1600\n",
      "Epoch 4/10\n",
      "14/14 [==============================] - ETA: 0s - loss: 0.5111 - categorical_accuracy: 0.8220\n",
      "Epoch 00004: saving model to model_init_2021-07-3109_59_30.632350/model-00004-0.51111-0.82202-7.19656-0.12000.h5\n",
      "14/14 [==============================] - 117s 8s/step - loss: 0.5111 - categorical_accuracy: 0.8220 - val_loss: 7.1966 - val_categorical_accuracy: 0.1200\n",
      "Epoch 5/10\n",
      "14/14 [==============================] - ETA: 0s - loss: 0.4178 - categorical_accuracy: 0.8643\n",
      "Epoch 00005: saving model to model_init_2021-07-3109_59_30.632350/model-00005-0.41782-0.86425-8.46769-0.16000.h5\n",
      "\n",
      "Epoch 00005: ReduceLROnPlateau reducing learning rate to 0.00020000000949949026.\n",
      "14/14 [==============================] - 118s 8s/step - loss: 0.4178 - categorical_accuracy: 0.8643 - val_loss: 8.4677 - val_categorical_accuracy: 0.1600\n",
      "Epoch 6/10\n",
      "14/14 [==============================] - ETA: 0s - loss: 0.3204 - categorical_accuracy: 0.8929\n",
      "Epoch 00006: saving model to model_init_2021-07-3109_59_30.632350/model-00006-0.32040-0.89291-9.16061-0.15000.h5\n",
      "14/14 [==============================] - 123s 9s/step - loss: 0.3204 - categorical_accuracy: 0.8929 - val_loss: 9.1606 - val_categorical_accuracy: 0.1500\n",
      "Epoch 7/10\n",
      "14/14 [==============================] - ETA: 0s - loss: 0.2495 - categorical_accuracy: 0.9306\n",
      "Epoch 00007: saving model to model_init_2021-07-3109_59_30.632350/model-00007-0.24952-0.93062-9.37778-0.16000.h5\n",
      "14/14 [==============================] - 113s 8s/step - loss: 0.2495 - categorical_accuracy: 0.9306 - val_loss: 9.3778 - val_categorical_accuracy: 0.1600\n",
      "Epoch 8/10\n",
      "14/14 [==============================] - ETA: 0s - loss: 0.2170 - categorical_accuracy: 0.9457\n",
      "Epoch 00008: saving model to model_init_2021-07-3109_59_30.632350/model-00008-0.21698-0.94570-10.08801-0.12000.h5\n",
      "14/14 [==============================] - 115s 8s/step - loss: 0.2170 - categorical_accuracy: 0.9457 - val_loss: 10.0880 - val_categorical_accuracy: 0.1200\n",
      "Epoch 9/10\n",
      "14/14 [==============================] - ETA: 0s - loss: 0.2407 - categorical_accuracy: 0.9336\n",
      "Epoch 00009: saving model to model_init_2021-07-3109_59_30.632350/model-00009-0.24067-0.93363-9.57099-0.16000.h5\n",
      "\n",
      "Epoch 00009: ReduceLROnPlateau reducing learning rate to 4.0000001899898055e-05.\n",
      "14/14 [==============================] - 115s 8s/step - loss: 0.2407 - categorical_accuracy: 0.9336 - val_loss: 9.5710 - val_categorical_accuracy: 0.1600\n",
      "Epoch 10/10\n",
      "14/14 [==============================] - ETA: 0s - loss: 0.2033 - categorical_accuracy: 0.9563\n",
      "Epoch 00010: saving model to model_init_2021-07-3109_59_30.632350/model-00010-0.20326-0.95626-9.08816-0.20000.h5\n",
      "14/14 [==============================] - 117s 8s/step - loss: 0.2033 - categorical_accuracy: 0.9563 - val_loss: 9.0882 - val_categorical_accuracy: 0.2000\n"
     ]
    },
    {
     "data": {
      "text/plain": [
       "<tensorflow.python.keras.callbacks.History at 0x7ff04fba7ba8>"
      ]
     },
     "execution_count": 53,
     "metadata": {},
     "output_type": "execute_result"
    }
   ],
   "source": [
    "model.fit(train_generator, steps_per_epoch=steps_per_epoch, epochs=num_epochs, verbose=1, \n",
    "                    callbacks=callbacks_list, validation_data=val_generator, \n",
    "                    validation_steps=validation_steps, class_weight=None, workers=1, initial_epoch=0)"
   ]
  },
  {
   "cell_type": "code",
   "execution_count": 54,
   "metadata": {},
   "outputs": [
    {
     "name": "stdout",
     "output_type": "stream",
     "text": [
      "Model: \"sequential_6\"\n",
      "_________________________________________________________________\n",
      "Layer (type)                 Output Shape              Param #   \n",
      "=================================================================\n",
      "time_distributed_2 (TimeDist (None, 24, 64)            15009664  \n",
      "_________________________________________________________________\n",
      "gru_4 (GRU)                  (None, 24, 32)            9408      \n",
      "_________________________________________________________________\n",
      "gru_5 (GRU)                  (None, 16)                2400      \n",
      "_________________________________________________________________\n",
      "dropout_8 (Dropout)          (None, 16)                0         \n",
      "_________________________________________________________________\n",
      "dense_16 (Dense)             (None, 8)                 136       \n",
      "_________________________________________________________________\n",
      "dense_17 (Dense)             (None, 5)                 45        \n",
      "=================================================================\n",
      "Total params: 15,021,653\n",
      "Trainable params: 306,965\n",
      "Non-trainable params: 14,714,688\n",
      "_________________________________________________________________\n",
      "None\n"
     ]
    }
   ],
   "source": [
    "#CNN+RNN\n",
    "from keras.models import Sequential, Model\n",
    "from keras.layers import Dense, GRU, Dropout, Flatten, TimeDistributed\n",
    "from keras.callbacks import ModelCheckpoint, ReduceLROnPlateau\n",
    "from keras import optimizers\n",
    "from keras.applications.vgg16 import VGG16\n",
    "    \n",
    "base_model = VGG16(include_top=False, weights='imagenet', input_shape=(img_height,img_width,3))\n",
    "x = base_model.output\n",
    "x = Flatten()(x)\n",
    "features = Dense(64, activation='relu')(x)\n",
    "conv_model = Model(inputs=base_model.input, outputs=features)\n",
    "    \n",
    "for layer in base_model.layers:\n",
    "    layer.trainable = False\n",
    "        \n",
    "model = Sequential()\n",
    "model.add(TimeDistributed(conv_model, input_shape=(num_frames,img_height,img_width,3)))\n",
    "model.add(GRU(32, return_sequences=True))\n",
    "model.add(GRU(16))\n",
    "model.add(Dropout(0.5))\n",
    "model.add(Dense(8, activation='relu'))\n",
    "model.add(Dense(5, activation='softmax'))\n",
    "\n",
    "optimiser = optimizers.Adam()\n",
    "model.compile(optimizer=optimiser, loss='categorical_crossentropy', metrics=['categorical_accuracy'])\n",
    "print(model.summary())"
   ]
  },
  {
   "cell_type": "code",
   "execution_count": 55,
   "metadata": {},
   "outputs": [
    {
     "name": "stdout",
     "output_type": "stream",
     "text": [
      "WARNING:tensorflow:`period` argument is deprecated. Please use `save_freq` to specify the frequency in number of batches seen.\n",
      "WARNING:tensorflow:`epsilon` argument is deprecated and will be removed, use `min_delta` instead.\n"
     ]
    }
   ],
   "source": [
    "train_generator = generator(train_path, train_doc, batch_size)\n",
    "val_generator = generator(val_path, val_doc, batch_size)\n",
    "\n",
    "model_name = 'model_init_conv_lstm' + '_' + str(curr_dt_time).replace(' ','').replace(':','_') + '/'\n",
    "    \n",
    "if not os.path.exists(model_name):\n",
    "    os.mkdir(model_name)\n",
    "        \n",
    "filepath = model_name + 'model-{epoch:05d}-{loss:.5f}-{categorical_accuracy:.5f}-{val_loss:.5f}-{val_categorical_accuracy:.5f}.h5'\n",
    "\n",
    "checkpoint = ModelCheckpoint(filepath, monitor='val_loss', verbose=1, save_best_only=False, save_weights_only=False, mode='auto', period=1)\n",
    "\n",
    "LR = ReduceLROnPlateau(monitor='val_loss', factor=0.5, patience=2, verbose=1, mode='min', epsilon=0.0001, cooldown=0, min_lr=0.00001)\n",
    "callbacks_list = [checkpoint, LR]\n",
    "\n",
    "if (num_train_sequences%batch_size) == 0:\n",
    "    steps_per_epoch = int(num_train_sequences/batch_size)\n",
    "else:\n",
    "    steps_per_epoch = (num_train_sequences//batch_size) + 1\n",
    "\n",
    "if (num_val_sequences%batch_size) == 0:\n",
    "    validation_steps = int(num_val_sequences/batch_size)\n",
    "else:\n",
    "    validation_steps = (num_val_sequences//batch_size) + 1\n",
    "        "
   ]
  },
  {
   "cell_type": "code",
   "execution_count": 56,
   "metadata": {},
   "outputs": [
    {
     "name": "stdout",
     "output_type": "stream",
     "text": [
      "Source path =  /home/datasets/Project_data/train ; batch size = 50\n",
      "Epoch 1/10\n",
      "14/14 [==============================] - ETA: 0s - loss: 1.5583 - categorical_accuracy: 0.2926Source path =  /home/datasets/Project_data/val ; batch size = 50\n",
      "\n",
      "Epoch 00001: saving model to model_init_conv_lstm_2021-07-3109_59_30.632350/model-00001-1.55830-0.29261-1.40594-0.40000.h5\n",
      "14/14 [==============================] - 115s 8s/step - loss: 1.5583 - categorical_accuracy: 0.2926 - val_loss: 1.4059 - val_categorical_accuracy: 0.4000\n",
      "Epoch 2/10\n",
      "14/14 [==============================] - ETA: 0s - loss: 1.3320 - categorical_accuracy: 0.4374\n",
      "Epoch 00002: saving model to model_init_conv_lstm_2021-07-3109_59_30.632350/model-00002-1.33196-0.43741-1.22711-0.57000.h5\n",
      "14/14 [==============================] - 118s 8s/step - loss: 1.3320 - categorical_accuracy: 0.4374 - val_loss: 1.2271 - val_categorical_accuracy: 0.5700\n",
      "Epoch 3/10\n",
      "14/14 [==============================] - ETA: 0s - loss: 1.2049 - categorical_accuracy: 0.5204\n",
      "Epoch 00003: saving model to model_init_conv_lstm_2021-07-3109_59_30.632350/model-00003-1.20487-0.52036-1.12313-0.59000.h5\n",
      "14/14 [==============================] - 118s 8s/step - loss: 1.2049 - categorical_accuracy: 0.5204 - val_loss: 1.1231 - val_categorical_accuracy: 0.5900\n",
      "Epoch 4/10\n",
      "14/14 [==============================] - ETA: 0s - loss: 1.0796 - categorical_accuracy: 0.5626\n",
      "Epoch 00004: saving model to model_init_conv_lstm_2021-07-3109_59_30.632350/model-00004-1.07956-0.56259-1.05813-0.65000.h5\n",
      "14/14 [==============================] - 117s 8s/step - loss: 1.0796 - categorical_accuracy: 0.5626 - val_loss: 1.0581 - val_categorical_accuracy: 0.6500\n",
      "Epoch 5/10\n",
      "14/14 [==============================] - ETA: 0s - loss: 0.9637 - categorical_accuracy: 0.6244\n",
      "Epoch 00005: saving model to model_init_conv_lstm_2021-07-3109_59_30.632350/model-00005-0.96374-0.62443-0.98178-0.65000.h5\n",
      "14/14 [==============================] - 116s 8s/step - loss: 0.9637 - categorical_accuracy: 0.6244 - val_loss: 0.9818 - val_categorical_accuracy: 0.6500\n",
      "Epoch 6/10\n",
      "14/14 [==============================] - ETA: 0s - loss: 0.9208 - categorical_accuracy: 0.6501\n",
      "Epoch 00006: saving model to model_init_conv_lstm_2021-07-3109_59_30.632350/model-00006-0.92075-0.65008-0.92584-0.66000.h5\n",
      "14/14 [==============================] - 118s 8s/step - loss: 0.9208 - categorical_accuracy: 0.6501 - val_loss: 0.9258 - val_categorical_accuracy: 0.6600\n",
      "Epoch 7/10\n",
      "14/14 [==============================] - ETA: 0s - loss: 0.8185 - categorical_accuracy: 0.6953\n",
      "Epoch 00007: saving model to model_init_conv_lstm_2021-07-3109_59_30.632350/model-00007-0.81848-0.69532-0.92737-0.68000.h5\n",
      "14/14 [==============================] - 118s 8s/step - loss: 0.8185 - categorical_accuracy: 0.6953 - val_loss: 0.9274 - val_categorical_accuracy: 0.6800\n",
      "Epoch 8/10\n",
      "14/14 [==============================] - ETA: 0s - loss: 0.7314 - categorical_accuracy: 0.7919\n",
      "Epoch 00008: saving model to model_init_conv_lstm_2021-07-3109_59_30.632350/model-00008-0.73144-0.79186-0.81068-0.70000.h5\n",
      "14/14 [==============================] - 114s 8s/step - loss: 0.7314 - categorical_accuracy: 0.7919 - val_loss: 0.8107 - val_categorical_accuracy: 0.7000\n",
      "Epoch 9/10\n",
      "14/14 [==============================] - ETA: 0s - loss: 0.6115 - categorical_accuracy: 0.8326\n",
      "Epoch 00009: saving model to model_init_conv_lstm_2021-07-3109_59_30.632350/model-00009-0.61154-0.83258-0.82421-0.74000.h5\n",
      "14/14 [==============================] - 118s 8s/step - loss: 0.6115 - categorical_accuracy: 0.8326 - val_loss: 0.8242 - val_categorical_accuracy: 0.7400\n",
      "Epoch 10/10\n",
      "14/14 [==============================] - ETA: 0s - loss: 0.5416 - categorical_accuracy: 0.8507\n",
      "Epoch 00010: saving model to model_init_conv_lstm_2021-07-3109_59_30.632350/model-00010-0.54162-0.85068-0.80303-0.74000.h5\n",
      "14/14 [==============================] - 115s 8s/step - loss: 0.5416 - categorical_accuracy: 0.8507 - val_loss: 0.8030 - val_categorical_accuracy: 0.7400\n"
     ]
    },
    {
     "data": {
      "text/plain": [
       "<tensorflow.python.keras.callbacks.History at 0x7ff1e9c66390>"
      ]
     },
     "execution_count": 56,
     "metadata": {},
     "output_type": "execute_result"
    }
   ],
   "source": [
    "model.fit_generator(train_generator, steps_per_epoch=steps_per_epoch, epochs=num_epochs, verbose=1, \n",
    "                    callbacks=callbacks_list, validation_data=val_generator, \n",
    "                    validation_steps=validation_steps, class_weight=None, workers=1, initial_epoch=0)"
   ]
  },
  {
   "cell_type": "code",
   "execution_count": null,
   "metadata": {},
   "outputs": [],
   "source": []
  }
 ],
 "metadata": {
  "kernelspec": {
   "display_name": "Python 3",
   "language": "python",
   "name": "python3"
  },
  "language_info": {
   "codemirror_mode": {
    "name": "ipython",
    "version": 3
   },
   "file_extension": ".py",
   "mimetype": "text/x-python",
   "name": "python",
   "nbconvert_exporter": "python",
   "pygments_lexer": "ipython3",
   "version": "3.8.5"
  }
 },
 "nbformat": 4,
 "nbformat_minor": 4
}
